{
  "nbformat": 4,
  "nbformat_minor": 0,
  "metadata": {
    "colab": {
      "name": "Untitled1.ipynb",
      "provenance": [],
      "collapsed_sections": [],
      "authorship_tag": "ABX9TyOhmThuDz+f0odW6c9VB2Vk",
      "include_colab_link": true
    },
    "kernelspec": {
      "name": "python3",
      "display_name": "Python 3"
    }
  },
  "cells": [
    {
      "cell_type": "markdown",
      "metadata": {
        "id": "view-in-github",
        "colab_type": "text"
      },
      "source": [
        "<a href=\"https://colab.research.google.com/github/sebkaz/Colab/blob/master/OpenCV/01%20intro/image%20modifications.ipynb\" target=\"_parent\"><img src=\"https://colab.research.google.com/assets/colab-badge.svg\" alt=\"Open In Colab\"/></a>"
      ]
    },
    {
      "cell_type": "code",
      "metadata": {
        "id": "SMzqcN3kU6fO"
      },
      "source": [
        "import cv2"
      ],
      "execution_count": 1,
      "outputs": []
    },
    {
      "cell_type": "code",
      "metadata": {
        "id": "FWTPKqbUV2Hd"
      },
      "source": [
        "img = cv2.imread('/first.jpg')"
      ],
      "execution_count": 12,
      "outputs": []
    },
    {
      "cell_type": "code",
      "metadata": {
        "id": "IM_RZw66ZrWV",
        "outputId": "e9445421-fe62-4db7-8f5a-607db64f27f8",
        "colab": {
          "base_uri": "https://localhost:8080/",
          "height": 35
        }
      },
      "source": [
        "img.shape"
      ],
      "execution_count": 14,
      "outputs": [
        {
          "output_type": "execute_result",
          "data": {
            "text/plain": [
              "(800, 450, 3)"
            ]
          },
          "metadata": {
            "tags": []
          },
          "execution_count": 14
        }
      ]
    },
    {
      "cell_type": "code",
      "metadata": {
        "id": "Q-uGnIEbZsEJ",
        "outputId": "429fc279-e6cf-4421-9a61-e2393225a5b7",
        "colab": {
          "base_uri": "https://localhost:8080/",
          "height": 867
        }
      },
      "source": [
        "img"
      ],
      "execution_count": 15,
      "outputs": [
        {
          "output_type": "execute_result",
          "data": {
            "text/plain": [
              "array([[[182, 134,  92],\n",
              "        [207, 159, 117],\n",
              "        [201, 155, 114],\n",
              "        ...,\n",
              "        [227, 207, 196],\n",
              "        [230, 211, 198],\n",
              "        [243, 224, 211]],\n",
              "\n",
              "       [[199, 149, 107],\n",
              "        [219, 171, 129],\n",
              "        [212, 163, 123],\n",
              "        ...,\n",
              "        [244, 224, 213],\n",
              "        [247, 228, 215],\n",
              "        [255, 241, 228]],\n",
              "\n",
              "       [[192, 140,  99],\n",
              "        [209, 159, 117],\n",
              "        [200, 149, 109],\n",
              "        ...,\n",
              "        [230, 210, 199],\n",
              "        [233, 214, 201],\n",
              "        [246, 227, 214]],\n",
              "\n",
              "       ...,\n",
              "\n",
              "       [[141, 165, 177],\n",
              "        [115, 139, 151],\n",
              "        [110, 134, 146],\n",
              "        ...,\n",
              "        [  9,  28,  36],\n",
              "        [  8,  27,  35],\n",
              "        [  8,  27,  35]],\n",
              "\n",
              "       [[ 95, 118, 133],\n",
              "        [116, 139, 154],\n",
              "        [122, 145, 160],\n",
              "        ...,\n",
              "        [ 28,  49,  57],\n",
              "        [  7,  28,  36],\n",
              "        [  6,  27,  35]],\n",
              "\n",
              "       [[ 96, 119, 134],\n",
              "        [142, 165, 180],\n",
              "        [131, 154, 169],\n",
              "        ...,\n",
              "        [ 37,  58,  66],\n",
              "        [ 12,  33,  41],\n",
              "        [ 12,  33,  41]]], dtype=uint8)"
            ]
          },
          "metadata": {
            "tags": []
          },
          "execution_count": 15
        }
      ]
    },
    {
      "cell_type": "code",
      "metadata": {
        "id": "_pa-AB8VasA-"
      },
      "source": [
        ""
      ],
      "execution_count": null,
      "outputs": []
    }
  ]
}